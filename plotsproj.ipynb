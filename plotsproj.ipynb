{
 "cells": [
  {
   "cell_type": "code",
   "execution_count": null,
   "metadata": {},
   "outputs": [],
   "source": [
    "import numpy as np\n",
    "import pandas as pd\n",
    "import plotly.plotly as pl\n",
    "import plotly.offline as po\n",
    "import cufflinks as cf"
   ]
  },
  {
   "cell_type": "code",
   "execution_count": null,
   "metadata": {},
   "outputs": [],
   "source": [
    "po.init_notebook_mode(connected = True)\n",
    "cf.go_offline()"
   ]
  },
  {
   "cell_type": "code",
   "execution_count": null,
   "metadata": {},
   "outputs": [],
   "source": []
  },
  {
   "cell_type": "code",
   "execution_count": null,
   "metadata": {},
   "outputs": [],
   "source": []
  },
  {
   "cell_type": "code",
   "execution_count": null,
   "metadata": {},
   "outputs": [],
   "source": [
    "def crdata(opt):\n",
    "    if(opt==1):\n",
    "        x = np.random.randint(1,50,size=(100,5))\n",
    "        df1 = pd.DataFrame(x,columns=['A','B','C','D','E'])\n",
    "        return df1\n",
    "        \n",
    "    elif(opt==2):\n",
    "        x = [0,0,0,0,0]\n",
    "        r1= [0,0,0,0,0]\n",
    "        r2= [0,0,0,0,0]\n",
    "        r3= [0,0,0,0,0]            \n",
    "        r4= [0,0,0,0,0]\n",
    "        i=0\n",
    "        print(\"Enter values for columns\")\n",
    "        for i in [0,1,2,3,4]:\n",
    "            x[i] = input()\n",
    "            i = i+1\n",
    "        print(\"Enter values for First row\")\n",
    "        i=0\n",
    "        for i in [0,1,2,3,4]:\n",
    "            r1[i] = int(input())\n",
    "            i = i+1\n",
    "        print(\"Enter values for Second row\")\n",
    "        i=0    \n",
    "        for i in [0,1,2,3,4]:\n",
    "            r2[i] = int(input())\n",
    "            i = i+1   \n",
    "        print(\"Enter values for Third row\")\n",
    "        i=0    \n",
    "        for i  in [0,1,2,3,4]:\n",
    "            r3[i] = int(input())\n",
    "            i = i+1 \n",
    "        print(\"Enter values for Fourth\")\n",
    "        i=0    \n",
    "        for i  in [0,1,2,3,4]:\n",
    "            r4[i] = int(input())\n",
    "            i = i+1 \n",
    "        \n",
    "        df1 = pd.DataFrame([r1,r2,r3,r4] , columns = x)\n",
    "        return df1\n",
    "    elif(opt==3):\n",
    "        file = input(\"Enter file name with extension :\")\n",
    "        x = pd.read_csv(file)\n",
    "        df1 = pd.DataFrame(x)\n",
    "        return df1\n",
    "    else:\n",
    "        print(\"please enter correct no between 1-3 FAILED\")\n",
    "    return df1"
   ]
  },
  {
   "cell_type": "code",
   "execution_count": null,
   "metadata": {},
   "outputs": [],
   "source": []
  },
  {
   "cell_type": "code",
   "execution_count": null,
   "metadata": {},
   "outputs": [],
   "source": []
  },
  {
   "cell_type": "code",
   "execution_count": null,
   "metadata": {},
   "outputs": [],
   "source": []
  },
  {
   "cell_type": "code",
   "execution_count": null,
   "metadata": {},
   "outputs": [],
   "source": [
    "def plotr(plt):\n",
    "    if (plt==1):\n",
    "        fin = df1.iplot(kind='scatter')\n",
    "    elif (plt==2):\n",
    "        fin = df1.iplot(kind='scatter',mode='markers',symbol='x')\n",
    "    elif (plt==3):\n",
    "        fin = df1.iplot(kind='bar')\n",
    "    elif (plt==4):\n",
    "        fin = df1.iplot(kind='hist')\n",
    "    elif (plt==5):\n",
    "        fin = df1.iplot(kind='box')\n",
    "    elif (plt==6):\n",
    "        fin = df1.iplot(kind='surface')\n",
    "            \n",
    "    else:\n",
    "        fin = print(\"Enter Between 1-6 \")\n",
    "    return fin\n",
    "            "
   ]
  },
  {
   "cell_type": "code",
   "execution_count": null,
   "metadata": {},
   "outputs": [],
   "source": [
    "def plotr2(plt):\n",
    "    col = int(input(\"Enter Number of columns you want to plot from the Data Set 1,2,3 : \"))\n",
    "    if (col==1):\n",
    "        clm = input(\"Enter The EXACT column name you want to Plot from the Data Set :\")\n",
    "        if (plt==1):\n",
    "            fin = df1[clm].iplot(kind='scatter')\n",
    "        elif (plt==2):\n",
    "            fin = df1[clm].iplot(kind='scatter', mode='markers' )\n",
    "        elif (plt==3):\n",
    "            fin = df1[clm].iplot(kind='bar')\n",
    "        elif (plt==4):\n",
    "            fin = df1[clm].iplot(kind='hist')\n",
    "        elif (plt==5):\n",
    "            fin = df1[clm].iplot(kind='box')\n",
    "        elif (plt==6 or plt==7):\n",
    "            fin = print(\"Bubble and surface plot requiere more than  \")\n",
    "            \n",
    "        else:\n",
    "            fin = print(\"Enter Between 1-6 \")\n",
    "        return fin\n",
    "        \n",
    "    elif (col==2):  \n",
    "        (\"Enter Two EXACT column names you want to Plot from the Data Set :\")\n",
    "        c1 = input(\"First Column Name :\")\n",
    "        c2 = input(\"Second Column Name :\")\n",
    "        if (plt==1):\n",
    "            fin = df1[[c1,c2]].iplot(kind='scatter')\n",
    "        elif (plt==2):\n",
    "            fin = df1[[c1,c2]].iplot(kind='scatter', mode='markers' )\n",
    "        elif (plt==3):\n",
    "            fin = df1[[c1,c2]].iplot(kind='bar')\n",
    "        elif (plt==4):\n",
    "            fin = df1[[c1,c2]].iplot(kind='hist')\n",
    "        elif (plt==5):\n",
    "            fin = df1[[c1,c2]].iplot(kind='box')\n",
    "        elif (plt==6):\n",
    "            fin = df1[[c1,c2]].iplot(kind='surface')\n",
    "        elif(plt==7):\n",
    "            sz = input(\"Enter The SIZE for Bubble Plot :\")\n",
    "            fin = df1.iplot(kind='bubble',x=c1,y=c2,size=sz)\n",
    "            \n",
    "        else:\n",
    "            fin = print(\"Enter Between 1-7 \")\n",
    "        return fin\n",
    "    elif (col==3):\n",
    "        (\"Enter Three EXACT column names you want to Plot from the Data Set :\")\n",
    "        c1 = input(\"First Column Name :\")\n",
    "        c2 = input(\"Second Column Name :\")\n",
    "        c3 = input(\"Third Column Name :\")\n",
    "        if (plt==1):\n",
    "            fin = df1[[c1,c2,c3]].iplot(kind='scatter')\n",
    "        elif (plt==2):\n",
    "            fin = df1[[c1,c2,c3]].iplot(kind='scatter', mode='markers' )\n",
    "        elif (plt==3):\n",
    "            fin = df1[[c1,c2,c3]].iplot(kind='bar')\n",
    "        elif (plt==4):\n",
    "            fin = df1[[c1,c2,c3]].iplot(kind='hist')\n",
    "        elif (plt==5):\n",
    "            fin = df1[[c1,c2,c3]].iplot(kind='box')\n",
    "        elif (plt==6):\n",
    "            fin = df1[[c1,c2,c3]].iplot(kind='surface')\n",
    "        elif(plt==7):\n",
    "            sz = input(\"Enter The SIZE for Bubble Plot :\")\n",
    "            fin = df1.iplot(kind='bubble',x=c1,y=c2,z=c3,size=sz)\n",
    "            \n",
    "        else:\n",
    "            fin = print(\"Enter Between 1-7 \")\n",
    "        return fin\n"
   ]
  },
  {
   "cell_type": "code",
   "execution_count": null,
   "metadata": {},
   "outputs": [],
   "source": [
    "def main(cat):\n",
    "    if(cat==1):\n",
    "        print(\"Plotting For All Columns\")\n",
    "        print(\"Select the type of plot from 1-6 :\")\n",
    "        print(\"1. LINE PLOT\")\n",
    "        print(\"2. SCATTER PLOT\")\n",
    "        print(\"3. BAR PLOT\")\n",
    "        print(\"4. HOSTOGRAM\")\n",
    "        print(\"5. BOX-PLOT\")\n",
    "        print(\"6. SURFACE PLOT\")\n",
    "        plt = int(input())\n",
    "        opt = plotr(plt)\n",
    "    elif(cat==2):\n",
    "        print(\"Plotting Specific Columns\")\n",
    "        print(\"Select the type of plot from 1-6 :\")\n",
    "        print(\"1. LINE PLOT\")\n",
    "        print(\"2. SCATTER PLOT\")\n",
    "        print(\"3. BAR PLOT\")\n",
    "        print(\"4. HOSTOGRAM\")\n",
    "        print(\"5. BOX-PLOT\")\n",
    "        print(\"6. SURFACE PLOT\")\n",
    "        print(\"7. BUBBLE PLOT\")\n",
    "        plt = int(input())\n",
    "        opt = plotr2(plt)\n",
    "    else:\n",
    "        print(\"Please Enter a value 1 or 2\")\n",
    "            "
   ]
  },
  {
   "cell_type": "code",
   "execution_count": null,
   "metadata": {},
   "outputs": [],
   "source": [
    "\n"
   ]
  },
  {
   "cell_type": "code",
   "execution_count": null,
   "metadata": {},
   "outputs": [],
   "source": []
  },
  {
   "cell_type": "markdown",
   "metadata": {},
   "source": []
  },
  {
   "cell_type": "code",
   "execution_count": null,
   "metadata": {},
   "outputs": [
    {
     "name": "stdout",
     "output_type": "stream",
     "text": [
      "ZACO PLOTTER\n",
      "WELCOME HUMAN\n",
      "SELECT FROM THE OPTIONS TO PLOT YOUR DATA\n",
      "1.Random Data with 100 rows and 5 columns\n",
      "2.Customized Data with 5 rows and 4 columns\n",
      "3.Upload your file csv/json/text\n"
     ]
    }
   ],
   "source": [
    "print(\"ZACO PLOTTER\")\n",
    "print(\"WELCOME HUMAN\")\n",
    "print(\"SELECT FROM THE OPTIONS TO PLOT YOUR DATA\")\n",
    "print(\"1.Random Data with 100 rows and 5 columns\")\n",
    "print(\"2.Customized Data with 5 rows and 4 columns\")\n",
    "print(\"3.Upload your file csv/json/text\")\n",
    "opt = int(input())\n",
    "df1 = crdata(opt)\n"
   ]
  },
  {
   "cell_type": "code",
   "execution_count": null,
   "metadata": {},
   "outputs": [],
   "source": [
    "print(\"The Data frame You want to work on is given below Please check\")\n",
    "df1.head()"
   ]
  },
  {
   "cell_type": "code",
   "execution_count": null,
   "metadata": {},
   "outputs": [],
   "source": [
    "print(\"What Kind of plot do you need for your data set\")\n",
    "print(\"1.Plot all columns\")\n",
    "print(\"2.Plot Specific columns\")\n",
    "\n",
    "cat = int(input(\"Enter 1 or 2 :\"))"
   ]
  },
  {
   "cell_type": "code",
   "execution_count": null,
   "metadata": {},
   "outputs": [],
   "source": [
    "main(cat)"
   ]
  },
  {
   "cell_type": "code",
   "execution_count": null,
   "metadata": {},
   "outputs": [],
   "source": []
  },
  {
   "cell_type": "code",
   "execution_count": null,
   "metadata": {},
   "outputs": [],
   "source": []
  },
  {
   "cell_type": "code",
   "execution_count": null,
   "metadata": {},
   "outputs": [],
   "source": []
  }
 ],
 "metadata": {
  "kernelspec": {
   "display_name": "Python 3",
   "language": "python",
   "name": "python3"
  },
  "language_info": {
   "codemirror_mode": {
    "name": "ipython",
    "version": 3
   },
   "file_extension": ".py",
   "mimetype": "text/x-python",
   "name": "python",
   "nbconvert_exporter": "python",
   "pygments_lexer": "ipython3",
   "version": "3.8.3"
  }
 },
 "nbformat": 4,
 "nbformat_minor": 4
}
